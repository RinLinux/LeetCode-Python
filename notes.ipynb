{
 "cells": [
  {
   "cell_type": "code",
   "execution_count": 2,
   "id": "226909d5-6b60-4a3d-8437-bcfb29ec0b42",
   "metadata": {},
   "outputs": [
    {
     "name": "stdout",
     "output_type": "stream",
     "text": [
      "2\n"
     ]
    }
   ],
   "source": [
    "class Solution:\n",
    "    def numTrees(self, n: int) -> int:\n",
    "        store = [1,1] #f(0),f(1)\n",
    "        if n <= 1:\n",
    "            return store[n]\n",
    "        for m in range(2,n+1):\n",
    "            s = m-1\n",
    "            count = 0\n",
    "            for i in range(m):\n",
    "                count += store[i] * store[s-i]\n",
    "            store.append(count)\n",
    "        return store[n]\n",
    "\n",
    "if __name__ == \"__main__\":\n",
    "    s = Solution()\n",
    "    res = s.numTrees(n=2)\n",
    "    print(res)\n",
    "    "
   ]
  },
  {
   "cell_type": "code",
   "execution_count": null,
   "id": "393f13a1-3e81-43d9-95ce-0058b72b8874",
   "metadata": {},
   "outputs": [],
   "source": []
  }
 ],
 "metadata": {
  "kernelspec": {
   "display_name": "Python 3 (ipykernel)",
   "language": "python",
   "name": "python3"
  },
  "language_info": {
   "codemirror_mode": {
    "name": "ipython",
    "version": 3
   },
   "file_extension": ".py",
   "mimetype": "text/x-python",
   "name": "python",
   "nbconvert_exporter": "python",
   "pygments_lexer": "ipython3",
   "version": "3.11.5"
  }
 },
 "nbformat": 4,
 "nbformat_minor": 5
}
